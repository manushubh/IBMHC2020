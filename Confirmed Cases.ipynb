{
 "cells": [
  {
   "cell_type": "code",
   "execution_count": 1,
   "metadata": {},
   "outputs": [
    {
     "ename": "SyntaxError",
     "evalue": "invalid syntax (<ipython-input-1-84986e73c555>, line 1)",
     "output_type": "error",
     "traceback": [
      "\u001b[1;36m  File \u001b[1;32m\"<ipython-input-1-84986e73c555>\"\u001b[1;36m, line \u001b[1;32m1\u001b[0m\n\u001b[1;33m    https://github.com/CSSEGISandData/COVID-19/blob/master/csse_covid_19_data/csse_covid_19_time_series/time_series_covid19_confirmed_US.csv\u001b[0m\n\u001b[1;37m           ^\u001b[0m\n\u001b[1;31mSyntaxError\u001b[0m\u001b[1;31m:\u001b[0m invalid syntax\n"
     ]
    }
   ],
   "source": [
    "#https://github.com/CSSEGISandData/COVID-19/blob/master/csse_covid_19_data/csse_covid_19_time_series/time_series_covid19_confirmed_US.csv"
   ]
  },
  {
   "cell_type": "code",
   "execution_count": 3,
   "metadata": {
    "ExecuteTime": {
     "end_time": "2020-04-12T04:02:45.046073Z",
     "start_time": "2020-04-12T04:02:45.038094Z"
    }
   },
   "outputs": [],
   "source": [
    "import pandas as pd\n",
    "import plotly.express as px\n",
    "import os\n",
    "from datetime import datetime"
   ]
  },
  {
   "cell_type": "code",
   "execution_count": 4,
   "metadata": {
    "ExecuteTime": {
     "end_time": "2020-04-12T02:56:57.951199Z",
     "start_time": "2020-04-12T02:56:57.660946Z"
    }
   },
   "outputs": [
    {
     "name": "stdout",
     "output_type": "stream",
     "text": [
      "<class 'pandas.core.frame.DataFrame'>\n",
      "RangeIndex: 3261 entries, 0 to 3260\n",
      "Columns: 176 entries, UID to 7/14/20\n",
      "dtypes: int64(176)\n",
      "memory usage: 4.4 MB\n"
     ]
    }
   ],
   "source": [
    "# Get confirmed case dataset from CSSEGIS\n",
    "url = 'https://raw.githubusercontent.com/CSSEGISandData/COVID-19/master/csse_covid_19_data/csse_covid_19_time_series/time_series_covid19_confirmed_US.csv'\n",
    "df = pd.read_csv(url)\n",
    "df = df.drop(columns=['iso2','iso3','code3','FIPS','Admin2'])\n",
    "df_com = df.iloc[:,0:6]\n",
    "df = df.drop(columns=['Province_State','Country_Region','Lat','Long_','Combined_Key'])\n",
    "df.info()"
   ]
  },
  {
   "cell_type": "code",
   "execution_count": 5,
   "metadata": {
    "ExecuteTime": {
     "end_time": "2020-04-12T02:57:35.024981Z",
     "start_time": "2020-04-12T02:57:35.007019Z"
    }
   },
   "outputs": [],
   "source": [
    "# Convert the time series formating\n",
    "df_series = pd.melt(df,id_vars=['UID'],var_name='date',value_name='confirmed_case')"
   ]
  },
  {
   "cell_type": "code",
   "execution_count": 6,
   "metadata": {
    "ExecuteTime": {
     "end_time": "2020-04-12T02:58:43.643409Z",
     "start_time": "2020-04-12T02:58:43.579611Z"
    }
   },
   "outputs": [],
   "source": [
    "df_clean = df_series.merge(df_com, left_on='UID', right_on='UID')"
   ]
  },
  {
   "cell_type": "code",
   "execution_count": 7,
   "metadata": {
    "ExecuteTime": {
     "end_time": "2020-04-12T02:58:51.110670Z",
     "start_time": "2020-04-12T02:58:51.097730Z"
    }
   },
   "outputs": [
    {
     "data": {
      "text/html": [
       "<div>\n",
       "<style scoped>\n",
       "    .dataframe tbody tr th:only-of-type {\n",
       "        vertical-align: middle;\n",
       "    }\n",
       "\n",
       "    .dataframe tbody tr th {\n",
       "        vertical-align: top;\n",
       "    }\n",
       "\n",
       "    .dataframe thead th {\n",
       "        text-align: right;\n",
       "    }\n",
       "</style>\n",
       "<table border=\"1\" class=\"dataframe\">\n",
       "  <thead>\n",
       "    <tr style=\"text-align: right;\">\n",
       "      <th></th>\n",
       "      <th>UID</th>\n",
       "      <th>date</th>\n",
       "      <th>confirmed_case</th>\n",
       "      <th>Province_State</th>\n",
       "      <th>Country_Region</th>\n",
       "      <th>Lat</th>\n",
       "      <th>Long_</th>\n",
       "      <th>Combined_Key</th>\n",
       "    </tr>\n",
       "  </thead>\n",
       "  <tbody>\n",
       "    <tr>\n",
       "      <th>0</th>\n",
       "      <td>16</td>\n",
       "      <td>1/22/20</td>\n",
       "      <td>0</td>\n",
       "      <td>American Samoa</td>\n",
       "      <td>US</td>\n",
       "      <td>-14.271</td>\n",
       "      <td>-170.132</td>\n",
       "      <td>American Samoa, US</td>\n",
       "    </tr>\n",
       "    <tr>\n",
       "      <th>1</th>\n",
       "      <td>16</td>\n",
       "      <td>1/23/20</td>\n",
       "      <td>0</td>\n",
       "      <td>American Samoa</td>\n",
       "      <td>US</td>\n",
       "      <td>-14.271</td>\n",
       "      <td>-170.132</td>\n",
       "      <td>American Samoa, US</td>\n",
       "    </tr>\n",
       "    <tr>\n",
       "      <th>2</th>\n",
       "      <td>16</td>\n",
       "      <td>1/24/20</td>\n",
       "      <td>0</td>\n",
       "      <td>American Samoa</td>\n",
       "      <td>US</td>\n",
       "      <td>-14.271</td>\n",
       "      <td>-170.132</td>\n",
       "      <td>American Samoa, US</td>\n",
       "    </tr>\n",
       "    <tr>\n",
       "      <th>3</th>\n",
       "      <td>16</td>\n",
       "      <td>1/25/20</td>\n",
       "      <td>0</td>\n",
       "      <td>American Samoa</td>\n",
       "      <td>US</td>\n",
       "      <td>-14.271</td>\n",
       "      <td>-170.132</td>\n",
       "      <td>American Samoa, US</td>\n",
       "    </tr>\n",
       "    <tr>\n",
       "      <th>4</th>\n",
       "      <td>16</td>\n",
       "      <td>1/26/20</td>\n",
       "      <td>0</td>\n",
       "      <td>American Samoa</td>\n",
       "      <td>US</td>\n",
       "      <td>-14.271</td>\n",
       "      <td>-170.132</td>\n",
       "      <td>American Samoa, US</td>\n",
       "    </tr>\n",
       "  </tbody>\n",
       "</table>\n",
       "</div>"
      ],
      "text/plain": [
       "   UID     date  confirmed_case  Province_State Country_Region     Lat  \\\n",
       "0   16  1/22/20               0  American Samoa             US -14.271   \n",
       "1   16  1/23/20               0  American Samoa             US -14.271   \n",
       "2   16  1/24/20               0  American Samoa             US -14.271   \n",
       "3   16  1/25/20               0  American Samoa             US -14.271   \n",
       "4   16  1/26/20               0  American Samoa             US -14.271   \n",
       "\n",
       "     Long_        Combined_Key  \n",
       "0 -170.132  American Samoa, US  \n",
       "1 -170.132  American Samoa, US  \n",
       "2 -170.132  American Samoa, US  \n",
       "3 -170.132  American Samoa, US  \n",
       "4 -170.132  American Samoa, US  "
      ]
     },
     "execution_count": 7,
     "metadata": {},
     "output_type": "execute_result"
    }
   ],
   "source": [
    "df_clean.head()"
   ]
  },
  {
   "cell_type": "code",
   "execution_count": 9,
   "metadata": {
    "ExecuteTime": {
     "end_time": "2020-04-12T03:07:11.855355Z",
     "start_time": "2020-04-12T03:07:10.463951Z"
    }
   },
   "outputs": [],
   "source": [
    "# Save to local\n",
    "#os.chdir(r'Desktop:\\Winter 2020\\COVID2019')\n",
    "#df_clean.to_csv('usa_confirmed_case.csv',index=False)"
   ]
  },
  {
   "cell_type": "code",
   "execution_count": null,
   "metadata": {
    "ExecuteTime": {
     "end_time": "2020-04-12T04:00:58.971572Z",
     "start_time": "2020-04-12T04:00:58.947636Z"
    }
   },
   "outputs": [],
   "source": [
    "### Visualizations \n",
    "# df_test = df_clean.groupby(by='date')\n",
    "# df_test = df_test.confirmed_case.sum()"
   ]
  },
  {
   "cell_type": "code",
   "execution_count": null,
   "metadata": {
    "ExecuteTime": {
     "end_time": "2020-04-12T04:01:08.925800Z",
     "start_time": "2020-04-12T04:01:08.915825Z"
    }
   },
   "outputs": [],
   "source": [
    "# pd.DataFrame(df_test,columns=['date','case'])\n",
    "# df_test = pd.DataFrame(df_test).reset_index()"
   ]
  },
  {
   "cell_type": "code",
   "execution_count": null,
   "metadata": {
    "ExecuteTime": {
     "end_time": "2020-04-12T04:04:40.181621Z",
     "start_time": "2020-04-12T04:04:40.176633Z"
    }
   },
   "outputs": [],
   "source": [
    "# df_test['date'] = df_test['date'].apply(lambda s:datetime.strptime(s, '%m/%d/%y'))"
   ]
  },
  {
   "cell_type": "code",
   "execution_count": null,
   "metadata": {
    "ExecuteTime": {
     "end_time": "2020-04-12T04:04:41.583451Z",
     "start_time": "2020-04-12T04:04:41.572499Z"
    }
   },
   "outputs": [],
   "source": [
    "# df_test.head()"
   ]
  },
  {
   "cell_type": "code",
   "execution_count": null,
   "metadata": {
    "ExecuteTime": {
     "end_time": "2020-04-12T04:04:46.000905Z",
     "start_time": "2020-04-12T04:04:45.782455Z"
    }
   },
   "outputs": [],
   "source": [
    "# data_canada = px.data.gapminder().query(\"country == 'Canada'\")\n",
    "# fig = px.bar(df_test, x='date',y='confirmed_case')\n",
    "# fig.show()"
   ]
  },
  {
   "cell_type": "code",
   "execution_count": null,
   "metadata": {},
   "outputs": [],
   "source": []
  }
 ],
 "metadata": {
  "kernelspec": {
   "display_name": "Python 3",
   "language": "python",
   "name": "python3"
  },
  "language_info": {
   "codemirror_mode": {
    "name": "ipython",
    "version": 3
   },
   "file_extension": ".py",
   "mimetype": "text/x-python",
   "name": "python",
   "nbconvert_exporter": "python",
   "pygments_lexer": "ipython3",
   "version": "3.7.6"
  },
  "toc": {
   "base_numbering": 1,
   "nav_menu": {},
   "number_sections": true,
   "sideBar": true,
   "skip_h1_title": false,
   "title_cell": "Table of Contents",
   "title_sidebar": "Contents",
   "toc_cell": false,
   "toc_position": {},
   "toc_section_display": true,
   "toc_window_display": false
  }
 },
 "nbformat": 4,
 "nbformat_minor": 4
}
